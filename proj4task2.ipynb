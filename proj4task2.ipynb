{
 "cells": [
  {
   "cell_type": "code",
   "execution_count": 1,
   "metadata": {
    "scrolled": true
   },
   "outputs": [
    {
     "data": {
      "text/html": [
       "\n",
       "        <div>\n",
       "            <p><b>SparkContext</b></p>\n",
       "\n",
       "            <p><a href=\"http://bhc0108.bluehive.circ.private:4040\">Spark UI</a></p>\n",
       "\n",
       "            <dl>\n",
       "              <dt>Version</dt>\n",
       "                <dd><code>v2.3.0</code></dd>\n",
       "              <dt>Master</dt>\n",
       "                <dd><code>spark://bhc0108:7077</code></dd>\n",
       "              <dt>AppName</dt>\n",
       "                <dd><code>jupyter</code></dd>\n",
       "            </dl>\n",
       "        </div>\n",
       "        "
      ],
      "text/plain": [
       "<SparkContext master=spark://bhc0108:7077 appName=jupyter>"
      ]
     },
     "execution_count": 1,
     "metadata": {},
     "output_type": "execute_result"
    }
   ],
   "source": [
    "sc"
   ]
  },
  {
   "cell_type": "code",
   "execution_count": 2,
   "metadata": {
    "collapsed": true
   },
   "outputs": [],
   "source": [
    "from pyspark.sql import SparkSession\n",
    "spark = SparkSession \\\n",
    "    .builder \\\n",
    "    .appName(\"Python Spark SQL basic example\") \\\n",
    "    .config(\"spark.some.config.option\", \"some-value\") \\\n",
    "    .getOrCreate()"
   ]
  },
  {
   "cell_type": "code",
   "execution_count": 3,
   "metadata": {},
   "outputs": [
    {
     "data": {
      "text/html": [
       "\n",
       "            <div>\n",
       "                <p><b>SparkSession - in-memory</b></p>\n",
       "                \n",
       "        <div>\n",
       "            <p><b>SparkContext</b></p>\n",
       "\n",
       "            <p><a href=\"http://bhc0108.bluehive.circ.private:4040\">Spark UI</a></p>\n",
       "\n",
       "            <dl>\n",
       "              <dt>Version</dt>\n",
       "                <dd><code>v2.3.0</code></dd>\n",
       "              <dt>Master</dt>\n",
       "                <dd><code>spark://bhc0108:7077</code></dd>\n",
       "              <dt>AppName</dt>\n",
       "                <dd><code>jupyter</code></dd>\n",
       "            </dl>\n",
       "        </div>\n",
       "        \n",
       "            </div>\n",
       "        "
      ],
      "text/plain": [
       "<pyspark.sql.session.SparkSession at 0x2b0fdf75b850>"
      ]
     },
     "execution_count": 3,
     "metadata": {},
     "output_type": "execute_result"
    }
   ],
   "source": [
    "spark"
   ]
  },
  {
   "cell_type": "code",
   "execution_count": 4,
   "metadata": {
    "collapsed": true
   },
   "outputs": [],
   "source": [
    "# Define functions to parse txt files containing items, stores, customers, and transactions\n",
    "from pyspark.sql import Row\n",
    "from datetime import datetime\n",
    "from pyspark.sql import functions as F\n",
    "def parseStore(s):\n",
    "    l=s.split('|')\n",
    "    return Row(store_num=int(l[0]), \n",
    "               store_name=l[1],               \n",
    "               store_zone=l[2],\n",
    "               store_city=l[3], \n",
    "               store_state=l[4], \n",
    "               store_type=int(l[5]))\n",
    "def parseItem(s):\n",
    "    l=s.split('|')\n",
    "    return Row(item_number=int(l[0]), \n",
    "               dept_categ_class=l[1],               \n",
    "               item_des=l[2],\n",
    "               item_unt_qty=float(l[3]), \n",
    "               size_unit_desc=l[4], \n",
    "               brand_code=l[5], \n",
    "               dept_num=int(l[6]), \n",
    "               dept_name=l[7], \n",
    "               categ_num=int(l[8]), \n",
    "               categ_name=l[9], \n",
    "               class_num=int(l[10]),\n",
    "               class_name=l[11])\n",
    "def parseCustomer(s):\n",
    "    l=s.split('|')\n",
    "    return Row(hshld_acct=int(l[0]),\n",
    "               birth_yr_head_hh=l[1],\n",
    "               hh_income=l[2],\n",
    "               hh_size=l[3],\n",
    "               adult_count=l[4],\n",
    "               child_count=l[5],\n",
    "               birth_yr_oldest=l[6],\n",
    "               birth_yr_youngest=l[7],\n",
    "               bad_address=l[8],\n",
    "               privacy=l[9],\n",
    "               application_date=datetime.strptime(l[10],'%Y-%m-%d'),\n",
    "               wine_email_sent=int(l[11]),\n",
    "               wine_email_open=int(l[12]),\n",
    "               wine_email_click=int(l[13]))\n",
    "def parsePostrans(s):\n",
    "    l=s.split('|')\n",
    "    return Row(hshld_acct=int(l[0]),\n",
    "               acct_num=int(l[1]),\n",
    "               trans_num=int(l[2]),\n",
    "               trans_date=datetime.strptime(l[3],'%Y-%m-%d'),\n",
    "               store_num=int(l[4]),\n",
    "               item_number=int(l[5]),\n",
    "               dept_categ_class=l[6],\n",
    "               unit_count=int(l[7]),\n",
    "               net_sales=float(l[8]),\n",
    "               gross_sales=float(l[9]),\n",
    "               manuf_coupon=float(l[10]))\n",
    "\n",
    "\n"
   ]
  },
  {
   "cell_type": "code",
   "execution_count": 5,
   "metadata": {
    "collapsed": true
   },
   "outputs": [],
   "source": [
    "path='/public/tbiswas2/csc261/spark/wegmans/'\n",
    "\n",
    "storeDF=spark.createDataFrame(sc.textFile(path+'wegmans_store_master.txt').map(lambda x: parseStore(x)))\n",
    "customerDF=spark.createDataFrame(sc.textFile(path+'wegmans_customer_master.txt').map(lambda x: parseCustomer(x)))\n",
    "itemDF=spark.createDataFrame(sc.textFile(path+'wegmans_item_master.txt').map(lambda x: parseItem(x)))\n",
    "postransDF=spark.createDataFrame(sc.textFile(path+'partial_transaction.dat').map(lambda x: parsePostrans(x)))"
   ]
  },
  {
   "cell_type": "markdown",
   "metadata": {
    "collapsed": true
   },
   "source": [
    "# Q1"
   ]
  },
  {
   "cell_type": "code",
   "execution_count": 10,
   "metadata": {},
   "outputs": [
    {
     "data": {
      "text/plain": [
       "94"
      ]
     },
     "execution_count": 10,
     "metadata": {},
     "output_type": "execute_result"
    }
   ],
   "source": [
    "storeDF.count()"
   ]
  },
  {
   "cell_type": "markdown",
   "metadata": {
    "collapsed": true
   },
   "source": [
    "# Q2"
   ]
  },
  {
   "cell_type": "code",
   "execution_count": 11,
   "metadata": {},
   "outputs": [
    {
     "data": {
      "text/plain": [
       "46"
      ]
     },
     "execution_count": 11,
     "metadata": {},
     "output_type": "execute_result"
    }
   ],
   "source": [
    "itemDF[['dept_name']].drop_duplicates().count()"
   ]
  },
  {
   "cell_type": "markdown",
   "metadata": {
    "collapsed": true
   },
   "source": [
    "# Q3"
   ]
  },
  {
   "cell_type": "code",
   "execution_count": 12,
   "metadata": {},
   "outputs": [
    {
     "data": {
      "text/plain": [
       "50"
      ]
     },
     "execution_count": 12,
     "metadata": {},
     "output_type": "execute_result"
    }
   ],
   "source": [
    "storeDF.filter(storeDF.store_state == 'NY').count()"
   ]
  },
  {
   "cell_type": "markdown",
   "metadata": {
    "collapsed": true
   },
   "source": [
    "# Q4"
   ]
  },
  {
   "cell_type": "code",
   "execution_count": 13,
   "metadata": {},
   "outputs": [
    {
     "name": "stdout",
     "output_type": "stream",
     "text": [
      "+-------------------+-------------------+\n",
      "|    min(trans_date)|    max(trans_date)|\n",
      "+-------------------+-------------------+\n",
      "|2013-04-28 00:00:00|2014-04-26 00:00:00|\n",
      "+-------------------+-------------------+\n",
      "\n"
     ]
    }
   ],
   "source": [
    "postransDF.select([F.min('trans_date'), F.max('trans_date')]).show()"
   ]
  },
  {
   "cell_type": "markdown",
   "metadata": {
    "collapsed": true
   },
   "source": [
    "# Q5"
   ]
  },
  {
   "cell_type": "code",
   "execution_count": 14,
   "metadata": {},
   "outputs": [
    {
     "data": {
      "text/plain": [
       "22613"
      ]
     },
     "execution_count": 14,
     "metadata": {},
     "output_type": "execute_result"
    }
   ],
   "source": [
    "postransDF.join(storeDF, 'store_num').filter(storeDF.store_name == 'WEGMANS MARKETPLACE').count()"
   ]
  },
  {
   "cell_type": "markdown",
   "metadata": {
    "collapsed": true
   },
   "source": [
    "# Q6"
   ]
  },
  {
   "cell_type": "code",
   "execution_count": 15,
   "metadata": {},
   "outputs": [
    {
     "name": "stdout",
     "output_type": "stream",
     "text": [
      "+--------------------+\n",
      "|avg(sum(unit_count))|\n",
      "+--------------------+\n",
      "|  14.368592701342282|\n",
      "+--------------------+\n",
      "\n"
     ]
    }
   ],
   "source": [
    "postransDF.groupBy(postransDF.trans_num).agg(F.sum('unit_count')).agg(F.mean('sum(unit_count)')).show()"
   ]
  },
  {
   "cell_type": "markdown",
   "metadata": {},
   "source": [
    "# Q7"
   ]
  },
  {
   "cell_type": "code",
   "execution_count": 16,
   "metadata": {},
   "outputs": [
    {
     "data": {
      "text/plain": [
       "7"
      ]
     },
     "execution_count": 16,
     "metadata": {},
     "output_type": "execute_result"
    }
   ],
   "source": [
    "itemDF.filter(itemDF['class_name']=='WHOLE MILK').count()"
   ]
  },
  {
   "cell_type": "markdown",
   "metadata": {},
   "source": [
    "# Q8"
   ]
  },
  {
   "cell_type": "code",
   "execution_count": 23,
   "metadata": {},
   "outputs": [
    {
     "name": "stdout",
     "output_type": "stream",
     "text": [
      "+----------+----------------+---------+-------+-----------+-----------+---------------+-----------------+-----------+-------+-------------------+---------------+---------------+----------------+\n",
      "|hshld_acct|birth_yr_head_hh|hh_income|hh_size|adult_count|child_count|birth_yr_oldest|birth_yr_youngest|bad_address|privacy|   application_date|wine_email_sent|wine_email_open|wine_email_click|\n",
      "+----------+----------------+---------+-------+-----------+-----------+---------------+-----------------+-----------+-------+-------------------+---------------+---------------+----------------+\n",
      "|    301443|            1983|    87500|      6|          6|          0|              0|                0|          N|      N|1982-10-19 00:00:00|              0|              0|               0|\n",
      "+----------+----------------+---------+-------+-----------+-----------+---------------+-----------------+-----------+-------+-------------------+---------------+---------------+----------------+\n",
      "only showing top 1 row\n",
      "\n"
     ]
    }
   ],
   "source": [
    "itemDF.filter(itemDF.class_name =='WHOLE MILK')\\\n",
    "    .join(postransDF, 'item_number')\\\n",
    "    .groupBy('hshld_acct')\\\n",
    "    .agg(F.sum('unit_count'))\\\n",
    "    .join(customerDF, 'hshld_acct')\\\n",
    "    .sort('sum(unit_count)',ascending=False)\\\n",
    "    .select('hshld_acct',\n",
    "               'birth_yr_head_hh',\n",
    "               'hh_income',\n",
    "               'hh_size',\n",
    "               'adult_count',\n",
    "               'child_count',\n",
    "               'birth_yr_oldest',\n",
    "               'birth_yr_youngest',\n",
    "               'bad_address',\n",
    "               'privacy',\n",
    "               'application_date',\n",
    "               'wine_email_sent',\n",
    "               'wine_email_open',\n",
    "               'wine_email_click')\\\n",
    "    .show(1)"
   ]
  },
  {
   "cell_type": "markdown",
   "metadata": {},
   "source": [
    "# Q9"
   ]
  },
  {
   "cell_type": "code",
   "execution_count": 104,
   "metadata": {},
   "outputs": [
    {
     "name": "stdout",
     "output_type": "stream",
     "text": [
      "+----------+----------+---------+----------+---------+----------------+---------+--------+--------------------+-----------+------------+--------------+\n",
      "|brand_code|categ_name|categ_num|class_name|class_num|dept_categ_class|dept_name|dept_num|            item_des|item_number|item_unt_qty|size_unit_desc|\n",
      "+----------+----------+---------+----------+---------+----------------+---------+--------+--------------------+-----------+------------+--------------+\n",
      "|      MORT|  SEASONAL|       83| ROCK SALT|       40|          048340|  GROCERY|       4|MORTON SAFE-T-SAL...|     158570|        50.0|            LB|\n",
      "+----------+----------+---------+----------+---------+----------------+---------+--------+--------------------+-----------+------------+--------------+\n",
      "only showing top 1 row\n",
      "\n"
     ]
    }
   ],
   "source": [
    "itemDF.filter(itemDF.size_unit_desc =='LB').sort('item_unt_qty',ascending=False).show(1)"
   ]
  },
  {
   "cell_type": "code",
   "execution_count": 19,
   "metadata": {
    "collapsed": true
   },
   "outputs": [],
   "source": [
    "a = itemDF.filter(itemDF.size_unit_desc =='LB').sort('item_unt_qty',ascending=False)"
   ]
  },
  {
   "cell_type": "code",
   "execution_count": 20,
   "metadata": {},
   "outputs": [
    {
     "name": "stdout",
     "output_type": "stream",
     "text": [
      "+----------+----------+---------+------------+---------+----------------+---------+--------+--------------------+-----------+------------+--------------+\n",
      "|brand_code|categ_name|categ_num|  class_name|class_num|dept_categ_class|dept_name|dept_num|            item_des|item_number|item_unt_qty|size_unit_desc|\n",
      "+----------+----------+---------+------------+---------+----------------+---------+--------+--------------------+-----------+------------+--------------+\n",
      "|      PURI|  DOG FOOD|       67|DRY DOG FOOD|       40|          046740|  GROCERY|       4|PURINA DOG CHOW B...|     559137|        50.0|            LB|\n",
      "|      MORT|  SEASONAL|       83|   ROCK SALT|       40|          048340|  GROCERY|       4|MORTON SAFE-T-SAL...|     158570|        50.0|            LB|\n",
      "|      DCRS|  SEASONAL|       83|   ROCK SALT|       40|          048340|  GROCERY|       4|DC EARLY MELT ANT...|     536983|        50.0|            LB|\n",
      "|      DCRS|  SEASONAL|       83|   ROCK SALT|       40|          048340|  GROCERY|       4|  DC FLASH MELT 50LB|     536985|        50.0|            LB|\n",
      "|      DCRS|  SEASONAL|       83|   ROCK SALT|       40|          048340|  GROCERY|       4|DC HALITE ROCK SA...|     537049|        50.0|            LB|\n",
      "+----------+----------+---------+------------+---------+----------------+---------+--------+--------------------+-----------+------------+--------------+\n",
      "\n"
     ]
    }
   ],
   "source": [
    "a.filter(a.item_unt_qty == 50).show()"
   ]
  },
  {
   "cell_type": "markdown",
   "metadata": {},
   "source": [
    "# Q10"
   ]
  },
  {
   "cell_type": "code",
   "execution_count": 21,
   "metadata": {},
   "outputs": [
    {
     "name": "stdout",
     "output_type": "stream",
     "text": [
      "+----------+---------------+\n",
      "| trans_num|sum(unit_count)|\n",
      "+----------+---------------+\n",
      "|2140152751|            160|\n",
      "|  62935858|            154|\n",
      "|2135179433|            137|\n",
      "+----------+---------------+\n",
      "only showing top 3 rows\n",
      "\n"
     ]
    }
   ],
   "source": [
    "postransDF.groupBy(postransDF.trans_num).agg(F.sum('unit_count')).sort('sum(unit_count)',ascending = False).show(3)"
   ]
  },
  {
   "cell_type": "markdown",
   "metadata": {},
   "source": [
    "# Q11"
   ]
  },
  {
   "cell_type": "code",
   "execution_count": 37,
   "metadata": {},
   "outputs": [],
   "source": [
    "a = storeDF.join(postransDF,'store_num').select('hshld_acct', 'store_num','store_name')\\\n",
    ".distinct().join(customerDF,'hshld_acct')"
   ]
  },
  {
   "cell_type": "code",
   "execution_count": 38,
   "metadata": {},
   "outputs": [
    {
     "name": "stdout",
     "output_type": "stream",
     "text": [
      "+--------------------+------------------+\n",
      "|          store_name|      avg(hh_size)|\n",
      "+--------------------+------------------+\n",
      "|    WEGMANS PERINTON|2.8173374613003097|\n",
      "|   WEGMANS HOLT ROAD| 3.304109589041096|\n",
      "|     WEGMANS GENESEO| 3.130434782608696|\n",
      "|   WEGMANS FAIRMOUNT|               3.0|\n",
      "|WEGMANS JOHNSON CITY|3.0714285714285716|\n",
      "|    WEGMANS ONONDAGA|               4.0|\n",
      "|      WEGMANS AUBURN|2.8181818181818183|\n",
      "|WEGMANS GREAT NOR...|2.2222222222222223|\n",
      "|    WEGMANS PENFIELD|3.2285714285714286|\n",
      "|    WEGMANS MT. READ| 3.059322033898305|\n",
      "|  WEGMANS AMHERST ST|3.6666666666666665|\n",
      "| WEGMANS IRONDEQUOIT| 3.088235294117647|\n",
      "| WEGMANS TRANSIT RD.| 4.444444444444445|\n",
      "|     WEGMANS HORNELL|2.3333333333333335|\n",
      "|      WEGMANS ELMIRA|               2.0|\n",
      "|         LIQUOR CITY|               3.5|\n",
      "| WEGMANS EAST AVENUE| 2.780357142857143|\n",
      "| WEGMANS CANANDAIGUA|3.0974025974025974|\n",
      "|      WEGMANS DEWITT|2.9411764705882355|\n",
      "|WEGMANS MILITARY ...| 3.857142857142857|\n",
      "+--------------------+------------------+\n",
      "only showing top 20 rows\n",
      "\n"
     ]
    }
   ],
   "source": [
    "a.groupBy(storeDF.store_name).agg(F.mean('hh_size')).show()"
   ]
  },
  {
   "cell_type": "markdown",
   "metadata": {},
   "source": [
    "# Q12"
   ]
  },
  {
   "cell_type": "code",
   "execution_count": 47,
   "metadata": {},
   "outputs": [
    {
     "name": "stdout",
     "output_type": "stream",
     "text": [
      "+--------------------+-----+\n",
      "|          store_name|count|\n",
      "+--------------------+-----+\n",
      "|CENTURY LIQUOR AN...| 1001|\n",
      "|   WEGMANS PITTSFORD|  727|\n",
      "| WEGMANS EAST AVENUE|  560|\n",
      "+--------------------+-----+\n",
      "only showing top 3 rows\n",
      "\n"
     ]
    }
   ],
   "source": [
    "storeDF.join(postransDF,'store_num').select('hshld_acct', 'store_num','store_name')\\\n",
    ".distinct().join(customerDF,'hshld_acct').groupBy(storeDF.store_name).count().sort('count',ascending=False).show(3)"
   ]
  },
  {
   "cell_type": "markdown",
   "metadata": {},
   "source": [
    "# Q13"
   ]
  },
  {
   "cell_type": "code",
   "execution_count": 65,
   "metadata": {},
   "outputs": [],
   "source": [
    "a = postransDF.join(storeDF,'store_num').groupBy(postransDF.store_num,postransDF.trans_date).agg(F.sum('net_sales'))"
   ]
  },
  {
   "cell_type": "code",
   "execution_count": 71,
   "metadata": {},
   "outputs": [],
   "source": [
    "b = a.groupBy('store_num').agg(F.max('sum(net_sales)'))"
   ]
  },
  {
   "cell_type": "code",
   "execution_count": 72,
   "metadata": {},
   "outputs": [
    {
     "name": "stdout",
     "output_type": "stream",
     "text": [
      "+-----------------+-------------------+\n",
      "|       store_name|max(sum(net_sales))|\n",
      "+-----------------+-------------------+\n",
      "|WEGMANS PITTSFORD|  7624.229999999884|\n",
      "|WEGMANS HOLT ROAD|  4240.679999999956|\n",
      "| WEGMANS PERINTON|  4144.779999999963|\n",
      "+-----------------+-------------------+\n",
      "only showing top 3 rows\n",
      "\n"
     ]
    }
   ],
   "source": [
    "b.join(storeDF,'store_num').select('store_name','max(sum(net_sales))')\\\n",
    ".sort('max(sum(net_sales))',ascending = False).show(3)"
   ]
  },
  {
   "cell_type": "markdown",
   "metadata": {
    "collapsed": true
   },
   "source": [
    "# Q14"
   ]
  },
  {
   "cell_type": "code",
   "execution_count": 80,
   "metadata": {},
   "outputs": [
    {
     "name": "stdout",
     "output_type": "stream",
     "text": [
      "+---------+------------------+\n",
      "|trans_num|    sum(net_sales)|\n",
      "+---------+------------------+\n",
      "| 23315450|           1740.08|\n",
      "| 92756442|           1373.76|\n",
      "|133258672|1202.9399999999998|\n",
      "+---------+------------------+\n",
      "only showing top 3 rows\n",
      "\n"
     ]
    }
   ],
   "source": [
    "postransDF.groupBy('trans_num').agg(F.sum('net_sales')).sort('sum(net_sales)',ascending = False).show(3)"
   ]
  },
  {
   "cell_type": "code",
   "execution_count": 97,
   "metadata": {
    "collapsed": true
   },
   "outputs": [],
   "source": [
    "rdd = sc.textFile(path+'partial_transaction.dat')"
   ]
  },
  {
   "cell_type": "code",
   "execution_count": 98,
   "metadata": {},
   "outputs": [],
   "source": [
    "tran_item = rdd.map(lambda x: (int(x[2]), int(x[5])))"
   ]
  },
  {
   "cell_type": "code",
   "execution_count": 99,
   "metadata": {
    "collapsed": true
   },
   "outputs": [],
   "source": [
    "trans = set(['23315450','92756442','133258672'])"
   ]
  },
  {
   "cell_type": "code",
   "execution_count": 100,
   "metadata": {
    "collapsed": true
   },
   "outputs": [],
   "source": [
    "result = tran_item.filter(lambda x: x[0] in trans)"
   ]
  },
  {
   "cell_type": "code",
   "execution_count": 101,
   "metadata": {},
   "outputs": [],
   "source": [
    "a = result.groupByKey().mapValues(list)"
   ]
  },
  {
   "cell_type": "code",
   "execution_count": null,
   "metadata": {
    "collapsed": true
   },
   "outputs": [],
   "source": []
  },
  {
   "cell_type": "code",
   "execution_count": null,
   "metadata": {
    "collapsed": true
   },
   "outputs": [],
   "source": []
  },
  {
   "cell_type": "code",
   "execution_count": null,
   "metadata": {
    "collapsed": true
   },
   "outputs": [],
   "source": []
  },
  {
   "cell_type": "code",
   "execution_count": null,
   "metadata": {
    "collapsed": true
   },
   "outputs": [],
   "source": []
  },
  {
   "cell_type": "code",
   "execution_count": null,
   "metadata": {
    "collapsed": true
   },
   "outputs": [],
   "source": []
  },
  {
   "cell_type": "code",
   "execution_count": null,
   "metadata": {
    "collapsed": true
   },
   "outputs": [],
   "source": []
  },
  {
   "cell_type": "markdown",
   "metadata": {},
   "source": [
    "# Below this section are not answers for the project\n",
    "# Try"
   ]
  },
  {
   "cell_type": "code",
   "execution_count": 73,
   "metadata": {
    "collapsed": true
   },
   "outputs": [],
   "source": [
    "a = storeDF.join(postransDF,'store_num').distinct().select('hshld_acct', 'store_num','store_name')\\\n",
    ".join(customerDF,'hshld_acct')"
   ]
  },
  {
   "cell_type": "code",
   "execution_count": 74,
   "metadata": {},
   "outputs": [
    {
     "name": "stdout",
     "output_type": "stream",
     "text": [
      "+--------------------+------------------+\n",
      "|          store_name|      avg(hh_size)|\n",
      "+--------------------+------------------+\n",
      "|    WEGMANS PERINTON|3.0208901961823496|\n",
      "|   WEGMANS HOLT ROAD|3.8538420913651965|\n",
      "|     WEGMANS GENESEO|3.2712167232445952|\n",
      "|   WEGMANS FAIRMOUNT|3.0344827586206895|\n",
      "|WEGMANS JOHNSON CITY| 2.310344827586207|\n",
      "|    WEGMANS ONONDAGA|               4.0|\n",
      "|      WEGMANS AUBURN| 3.235294117647059|\n",
      "|WEGMANS GREAT NOR...|2.0063291139240507|\n",
      "|    WEGMANS PENFIELD| 4.068088933564352|\n",
      "|    WEGMANS MT. READ|3.0286485744359526|\n",
      "|  WEGMANS AMHERST ST| 5.173878205128205|\n",
      "| WEGMANS IRONDEQUOIT| 2.720486056029696|\n",
      "| WEGMANS TRANSIT RD.| 4.270557029177719|\n",
      "|     WEGMANS HORNELL| 1.810483870967742|\n",
      "|      WEGMANS ELMIRA|0.5217391304347826|\n",
      "|         LIQUOR CITY|2.6666666666666665|\n",
      "| WEGMANS EAST AVENUE|2.8224429817560397|\n",
      "| WEGMANS CANANDAIGUA|3.0959485530546624|\n",
      "|      WEGMANS DEWITT| 3.913114754098361|\n",
      "|WEGMANS MILITARY ...| 3.650485436893204|\n",
      "+--------------------+------------------+\n",
      "only showing top 20 rows\n",
      "\n"
     ]
    }
   ],
   "source": [
    "a.groupBy(storeDF.store_name).agg(F.mean('hh_size')).show()"
   ]
  },
  {
   "cell_type": "code",
   "execution_count": null,
   "metadata": {
    "collapsed": true
   },
   "outputs": [],
   "source": []
  }
 ],
 "metadata": {
  "kernelspec": {
   "display_name": "Python 2 (intel+spark)",
   "language": "python",
   "name": "intel-python-spark"
  },
  "language_info": {
   "codemirror_mode": {
    "name": "ipython",
    "version": 2
   },
   "file_extension": ".py",
   "mimetype": "text/x-python",
   "name": "python",
   "nbconvert_exporter": "python",
   "pygments_lexer": "ipython2",
   "version": "2.7.12"
  }
 },
 "nbformat": 4,
 "nbformat_minor": 2
}
