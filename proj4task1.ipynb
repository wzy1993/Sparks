{
 "cells": [
  {
   "cell_type": "code",
   "execution_count": 1,
   "metadata": {},
   "outputs": [
    {
     "data": {
      "text/html": [
       "\n",
       "        <div>\n",
       "            <p><b>SparkContext</b></p>\n",
       "\n",
       "            <p><a href=\"http://bhg0020.bluehive.circ.private:4040\">Spark UI</a></p>\n",
       "\n",
       "            <dl>\n",
       "              <dt>Version</dt>\n",
       "                <dd><code>v2.3.0</code></dd>\n",
       "              <dt>Master</dt>\n",
       "                <dd><code>spark://bhg0020:7077</code></dd>\n",
       "              <dt>AppName</dt>\n",
       "                <dd><code>jupyter</code></dd>\n",
       "            </dl>\n",
       "        </div>\n",
       "        "
      ],
      "text/plain": [
       "<SparkContext master=spark://bhg0020:7077 appName=jupyter>"
      ]
     },
     "execution_count": 1,
     "metadata": {},
     "output_type": "execute_result"
    }
   ],
   "source": [
    "sc"
   ]
  },
  {
   "cell_type": "code",
   "execution_count": 2,
   "metadata": {},
   "outputs": [
    {
     "data": {
      "text/plain": [
       "[(u'spark.rdd.compress', u'True'),\n",
       " (u'spark.local.dir', u'/local_scratch/4615954'),\n",
       " (u'spark.serializer.objectStreamReset', u'100'),\n",
       " (u'spark.executor.memory', u'20480M'),\n",
       " (u'spark.driver.host', u'bhg0020.bluehive.circ.private'),\n",
       " (u'spark.driver.port', u'43530'),\n",
       " (u'spark.executor.id', u'driver'),\n",
       " (u'spark.submit.deployMode', u'client'),\n",
       " (u'spark.app.id', u'app-20180504120907-0001'),\n",
       " (u'spark.master', u'spark://bhg0020:7077'),\n",
       " (u'spark.ui.showConsoleProgress', u'true'),\n",
       " (u'spark.app.name', u'jupyter')]"
      ]
     },
     "execution_count": 2,
     "metadata": {},
     "output_type": "execute_result"
    }
   ],
   "source": [
    "sc.getConf().getAll()"
   ]
  },
  {
   "cell_type": "code",
   "execution_count": 3,
   "metadata": {},
   "outputs": [
    {
     "data": {
      "text/plain": [
       "pyspark.rdd.RDD"
      ]
     },
     "execution_count": 3,
     "metadata": {},
     "output_type": "execute_result"
    }
   ],
   "source": [
    "book=sc.textFile('/public/tbiswas2/csc261/spark/bronte-jane-eyre.txt')\n",
    "type(book)"
   ]
  },
  {
   "cell_type": "markdown",
   "metadata": {},
   "source": [
    "# Q1"
   ]
  },
  {
   "cell_type": "code",
   "execution_count": 4,
   "metadata": {
    "collapsed": true
   },
   "outputs": [],
   "source": [
    "words=book.flatMap(lambda x: x.split())\n",
    "#words.take(10)"
   ]
  },
  {
   "cell_type": "code",
   "execution_count": 5,
   "metadata": {
    "collapsed": true
   },
   "outputs": [],
   "source": [
    "import re\n",
    "words_lower=words.map(lambda x: re.sub(r'[^\\w]','',x.lower()))\n",
    "#words_lower.take(10)"
   ]
  },
  {
   "cell_type": "code",
   "execution_count": 6,
   "metadata": {
    "collapsed": true
   },
   "outputs": [],
   "source": [
    "counts=words_lower.flatMap(lambda x:[(c,1) for c in x]).reduceByKey(lambda v1, v2: v1+v2)"
   ]
  },
  {
   "cell_type": "code",
   "execution_count": 7,
   "metadata": {
    "collapsed": true
   },
   "outputs": [],
   "source": [
    "numbers = set(['0','1','2','3','4','5','6','7','8','9'])\n",
    "filteredCount=counts.filter(lambda x : x[0] not in numbers)"
   ]
  },
  {
   "cell_type": "code",
   "execution_count": 8,
   "metadata": {},
   "outputs": [
    {
     "data": {
      "text/plain": [
       "pyspark.rdd.PipelinedRDD"
      ]
     },
     "execution_count": 8,
     "metadata": {},
     "output_type": "execute_result"
    }
   ],
   "source": [
    "type(filteredCount)"
   ]
  },
  {
   "cell_type": "code",
   "execution_count": 9,
   "metadata": {
    "collapsed": true
   },
   "outputs": [],
   "source": [
    "dic = filteredCount.collectAsMap()"
   ]
  },
  {
   "cell_type": "code",
   "execution_count": 10,
   "metadata": {
    "collapsed": true
   },
   "outputs": [],
   "source": [
    "x = []\n",
    "y = []\n",
    "for i in dic.keys():\n",
    "    x.append(str(i))\n",
    "    y.append(int(dic[i]))"
   ]
  },
  {
   "cell_type": "code",
   "execution_count": 12,
   "metadata": {},
   "outputs": [
    {
     "data": {
      "image/png": "[encoded data removed]",
      "text/plain": [
       "<matplotlib.figure.Figure at 0x2b900f3bced0>"
      ]
     },
     "metadata": {},
     "output_type": "display_data"
    }
   ],
   "source": [
    "import matplotlib.pyplot as plt\n",
    "import numpy as np\n",
    "a =  np.arange(len(x))\n",
    "plt.bar(a, y, align='center', alpha=0.5)\n",
    "plt.xticks(a, x)\n",
    "plt.show()"
   ]
  },
  {
   "cell_type": "markdown",
   "metadata": {},
   "source": [
    "# Q2"
   ]
  },
  {
   "cell_type": "code",
   "execution_count": 13,
   "metadata": {
    "collapsed": true,
    "scrolled": false
   },
   "outputs": [],
   "source": [
    "temp = words_lower.distinct()\n",
    "#space = set([' '])\n",
    "#filteredCount=temp.filter(lambda x : x not in space)\n",
    "#temp.take(10)"
   ]
  },
  {
   "cell_type": "code",
   "execution_count": 14,
   "metadata": {},
   "outputs": [
    {
     "data": {
      "text/plain": [
       "[(u'afnw', u'fawn'),\n",
       " ('', u''),\n",
       " (u'aehlpsst', u'pathless'),\n",
       " (u'ddeeenp', u'deepden'),\n",
       " (u'ellowy', u'yellow'),\n",
       " (u'foru', u'four'),\n",
       " (u'egilnrst', u'ringlets'),\n",
       " (u'giklnoo', u'looking'),\n",
       " (u'cdlos', u'scold'),\n",
       " (u'agiiilnorty', u'originality')]"
      ]
     },
     "execution_count": 14,
     "metadata": {},
     "output_type": "execute_result"
    }
   ],
   "source": [
    "ana = temp.map(lambda x: (''.join(sorted(list(x))),x))\n",
    "ana.take(10)"
   ]
  },
  {
   "cell_type": "code",
   "execution_count": 15,
   "metadata": {
    "collapsed": true
   },
   "outputs": [],
   "source": [
    "new_ana = ana.reduceByKey(lambda v1, v2: (v1,v2))\n",
    "new_ana = new_ana.filter(lambda x: type(x[1]) == tuple)\n",
    "new_ana = new_ana.sortByKey(ascending= True)\n",
    "new_ana = new_ana.map(lambda x:(x[0],set(x[1])))"
   ]
  },
  {
   "cell_type": "code",
   "execution_count": 16,
   "metadata": {},
   "outputs": [
    {
     "data": {
      "text/plain": [
       "[(u'aadeemqrsu', {u'masquerade', u'squaremade'}),\n",
       " (u'aadins', {u'dianas', u'naiads'}),\n",
       " (u'aaginnostt', {u'antagonist', u'stagnation'})]"
      ]
     },
     "execution_count": 16,
     "metadata": {},
     "output_type": "execute_result"
    }
   ],
   "source": [
    "new_ana.take(3)"
   ]
  },
  {
   "cell_type": "code",
   "execution_count": null,
   "metadata": {
    "collapsed": true
   },
   "outputs": [],
   "source": []
  },
  {
   "cell_type": "code",
   "execution_count": null,
   "metadata": {
    "collapsed": true
   },
   "outputs": [],
   "source": []
  },
  {
   "cell_type": "code",
   "execution_count": null,
   "metadata": {
    "collapsed": true
   },
   "outputs": [],
   "source": []
  },
  {
   "cell_type": "code",
   "execution_count": null,
   "metadata": {
    "collapsed": true
   },
   "outputs": [],
   "source": []
  },
  {
   "cell_type": "code",
   "execution_count": null,
   "metadata": {
    "collapsed": true
   },
   "outputs": [],
   "source": []
  },
  {
   "cell_type": "code",
   "execution_count": 16,
   "metadata": {},
   "outputs": [
    {
     "data": {
      "text/plain": [
       "[(u'                                      1846', 0),\n",
       " (u'', 1),\n",
       " (u'                                   JANE EYRE', 2)]"
      ]
     },
     "execution_count": 16,
     "metadata": {},
     "output_type": "execute_result"
    }
   ],
   "source": [
    "lines = book.zipWithIndex()\n",
    "lines.take(3)"
   ]
  },
  {
   "cell_type": "code",
   "execution_count": 14,
   "metadata": {},
   "outputs": [],
   "source": [
    "empty = lines.filter(lambda x: len(x[0]) == 0)"
   ]
  },
  {
   "cell_type": "code",
   "execution_count": 15,
   "metadata": {},
   "outputs": [
    {
     "data": {
      "text/plain": [
       "[(u'', 1), (u'', 3), (u'', 5), (u'', 7), (u'', 9)]"
      ]
     },
     "execution_count": 15,
     "metadata": {},
     "output_type": "execute_result"
    }
   ],
   "source": [
    "empty.take(5)"
   ]
  },
  {
   "cell_type": "markdown",
   "metadata": {},
   "source": [
    "# Q3"
   ]
  },
  {
   "cell_type": "code",
   "execution_count": 17,
   "metadata": {
    "collapsed": true
   },
   "outputs": [],
   "source": [
    "lines = book.zipWithIndex()"
   ]
  },
  {
   "cell_type": "code",
   "execution_count": 64,
   "metadata": {
    "collapsed": true
   },
   "outputs": [],
   "source": [
    "def search(text):\n",
    "    result = set()\n",
    "    words = text[0].split()\n",
    "    position = 0\n",
    "    new = text[0]\n",
    "    for i in words:\n",
    "        result.add((i, (text[1]+1, new.find(i) + position + 1)))\n",
    "        position += (new.find(i) + len(i))\n",
    "        new = new[new.find(i) + len(i):]\n",
    "    return result"
   ]
  },
  {
   "cell_type": "code",
   "execution_count": 65,
   "metadata": {
    "collapsed": true
   },
   "outputs": [],
   "source": [
    "new_lines = lines.flatMap(search)"
   ]
  },
  {
   "cell_type": "code",
   "execution_count": 66,
   "metadata": {},
   "outputs": [
    {
     "data": {
      "text/plain": [
       "[(u'Rochester', (4504, 34)),\n",
       " (u\"Rochester!'\", (4509, 9)),\n",
       " (u\"Rochester?'\", (4512, 15)),\n",
       " (u'Rochesters', (4522, 1)),\n",
       " (u\"Rochester's\", (4524, 57)),\n",
       " (u\"Rochester's\", (4532, 16)),\n",
       " (u'Rochester', (4580, 1)),\n",
       " (u'Rochester.', (4584, 51)),\n",
       " (u'Rochester', (4585, 1)),\n",
       " (u'Rochester', (4594, 27))]"
      ]
     },
     "execution_count": 66,
     "metadata": {},
     "output_type": "execute_result"
    }
   ],
   "source": [
    "new_lines.take(5)\n",
    "check = 'Rochester'\n",
    "result = new_lines.filter(lambda x: x[0].startswith(check))\n",
    "result.take(10)"
   ]
  },
  {
   "cell_type": "code",
   "execution_count": null,
   "metadata": {
    "collapsed": true
   },
   "outputs": [],
   "source": []
  },
  {
   "cell_type": "code",
   "execution_count": null,
   "metadata": {
    "collapsed": true
   },
   "outputs": [],
   "source": []
  },
  {
   "cell_type": "code",
   "execution_count": null,
   "metadata": {
    "collapsed": true
   },
   "outputs": [],
   "source": []
  }
 ],
 "metadata": {
  "kernelspec": {
   "display_name": "Python 2 (intel+spark)",
   "language": "python",
   "name": "intel-python-spark"
  },
  "language_info": {
   "codemirror_mode": {
    "name": "ipython",
    "version": 2
   },
   "file_extension": ".py",
   "mimetype": "text/x-python",
   "name": "python",
   "nbconvert_exporter": "python",
   "pygments_lexer": "ipython2",
   "version": "2.7.12"
  }
 },
 "nbformat": 4,
 "nbformat_minor": 2
}
